{
 "cells": [
  {
   "cell_type": "code",
   "execution_count": 1,
   "metadata": {},
   "outputs": [
    {
     "data": {
      "text/plain": [
       "'\\nDeep Ensemble Neural Network (DENN) for AI Generated Image Detection\\n\\nAuthor: James Michael Fritz \\n\\nDate Created: 25/03/2023\\nDate Revised: 11/07/2023\\n\\nThis notebook demonstrates the implementation of the DENN model,\\nwhich is a deep ensemble neural network that combines the outputs of\\nVGG19 and ConvNeXt models.\\n'"
      ]
     },
     "execution_count": 1,
     "metadata": {},
     "output_type": "execute_result"
    }
   ],
   "source": [
    "\"\"\"\n",
    "Application of ConvNext, Swin Transformer, and VGG19 for AI Generated Image Detection\n",
    "\n",
    "Author: James Michael Fritz \n",
    "\n",
    "Date Created: 25/03/2023\n",
    "Date Revised: 11/07/2023\n",
    "\n",
    "This notebook demonstrates the implementation of the ConvNext, Swin Transformer,\n",
    "and VGG19 to detect AI Generated Images\n",
    "\"\"\""
   ]
  },
  {
   "cell_type": "code",
   "execution_count": 2,
   "metadata": {},
   "outputs": [],
   "source": [
    "# Imports here\n",
    "import PIL\n",
    "import numpy as np\n",
    "import matplotlib.pyplot as plt\n",
    "import torch\n",
    "from torch import nn, optim\n",
    "from torch.optim import lr_scheduler\n",
    "from torchvision import transforms, datasets\n",
    "from torch.utils.data import DataLoader\n",
    "from torchvision import models\n",
    "from collections import OrderedDict\n",
    "import seaborn as sns\n",
    "import json\n",
    "from sklearn.metrics import classification_report"
   ]
  },
  {
   "cell_type": "code",
   "execution_count": 3,
   "metadata": {},
   "outputs": [],
   "source": [
    "# hyperparameters\n",
    "BATCH_SIZE = 512\n",
    "EPOCHS = 5\n",
    "LR = 5e-4\n",
    "LR_DECAY = 0.7\n",
    "WEIGHT_DECAY = 1e-2"
   ]
  },
  {
   "cell_type": "code",
   "execution_count": 4,
   "metadata": {},
   "outputs": [],
   "source": [
    "train_dir = 'train'\n",
    "test_dir = 'test'"
   ]
  },
  {
   "cell_type": "code",
   "execution_count": 5,
   "metadata": {},
   "outputs": [],
   "source": [
    "import torch\n",
    "from torchvision import datasets, transforms\n",
    "from torch.utils.data import DataLoader, random_split\n",
    "\n",
    "# Define your transforms for the training, validation, and testing sets\n",
    "data_transforms = {\n",
    "    'train': transforms.Compose([\n",
    "        transforms.Resize(size=256),\n",
    "        transforms.CenterCrop(size=224),\n",
    "        transforms.ToTensor(),\n",
    "        transforms.Normalize([0.485, 0.456, 0.406],\n",
    "                             [0.229, 0.224, 0.225])\n",
    "    ]),\n",
    "    'test': transforms.Compose([\n",
    "        transforms.Resize(size=256),\n",
    "        transforms.CenterCrop(size=224),\n",
    "        transforms.ToTensor(),\n",
    "        transforms.Normalize([0.485, 0.456, 0.406],\n",
    "                             [0.229, 0.224, 0.225])\n",
    "    ])\n",
    "}\n",
    "\n",
    "# Load the dataset using ImageFolder\n",
    "image_dataset = datasets.ImageFolder(train_dir, transform=data_transforms['train'])\n",
    "test_dataset = datasets.ImageFolder(test_dir, transform=data_transforms['test'])\n",
    "\n",
    "# Split the dataset into train and validation sets\n",
    "train_size = int(0.8 * len(image_dataset))\n",
    "val_size = len(image_dataset) - train_size\n",
    "\n",
    "train_dataset, val_dataset = random_split(image_dataset, [train_size, val_size])\n",
    "\n",
    "# Create data loaders for train, validation, and test sets\n",
    "train_dataloader = DataLoader(train_dataset, batch_size=BATCH_SIZE, shuffle=True)\n",
    "val_dataloader = DataLoader(val_dataset, batch_size=BATCH_SIZE, shuffle=True)\n",
    "test_dataloader = DataLoader(test_dataset, batch_size=BATCH_SIZE, shuffle=True)"
   ]
  },
  {
   "cell_type": "code",
   "execution_count": 6,
   "metadata": {},
   "outputs": [],
   "source": [
    "from torch.nn import DataParallel\n",
    "\n",
    "def fit_model(model, epochs, train_dataloader, val_dataloader, criterion, optimizer, scheduler):\n",
    "    device = \"cuda\" if torch.cuda.is_available() else \"cpu\"\n",
    "    model = model.to(device)\n",
    "    model = DataParallel(model)\n",
    "    \n",
    "    epoch_train_loss = []\n",
    "    epoch_train_acc = []\n",
    "    epoch_val_loss = []\n",
    "    epoch_val_acc = []\n",
    "    \n",
    "    for epoch in range(epochs):\n",
    "        print(f\"Epoch: {epoch+1}/{epochs}\")\n",
    "        print(f\"Learning rate: {scheduler.get_last_lr()[0]}\")\n",
    "\n",
    "        model.train()\n",
    "        train_loss = []\n",
    "        train_acc = []\n",
    "        for i, (inputs, labels) in enumerate(train_dataloader):\n",
    "            inputs = inputs.to(device)\n",
    "            labels = labels.to(device)\n",
    "            optimizer.zero_grad()\n",
    "\n",
    "            outputs = model(inputs)\n",
    "            loss = criterion(outputs, labels)\n",
    "            loss.backward()\n",
    "            train_loss.append(loss.item()) \n",
    "            optimizer.step()\n",
    "\n",
    "            ret, predictions = torch.max(outputs.data, 1)\n",
    "            correct_counts = predictions.eq(labels.data.view_as(predictions))\n",
    "            acc = torch.mean(correct_counts.type(torch.FloatTensor))\n",
    "            train_acc.append(acc.item()) \n",
    "\n",
    "            if i % 100 == 0 and i != 0:\n",
    "                print(f\"Batch: {i:03d}/{len(train_dataloader)}\", end= \" | \")\n",
    "                print(f\"Train loss: {loss.item():.4f}\", end=\" | \")\n",
    "                print(f\"Train accuracy: {acc.item():.4f}\", end=\" | \")\n",
    "                print()\n",
    "\n",
    "        avg_train_loss = sum(train_loss) / len(train_loss)\n",
    "        avg_train_acc = sum(train_acc) / len(train_acc)\n",
    "        \n",
    "        epoch_train_loss.append(avg_train_loss)\n",
    "        epoch_train_acc.append(avg_train_acc)\n",
    "\n",
    "        print(f\"Train loss: \\t\\t{avg_train_loss:.4f}\", end=\" | \")\n",
    "        print(f\"Train accuracy: \\t{avg_train_acc:.4f}\", end=\" | \")\n",
    "        print()\n",
    "\n",
    "        scheduler.step() # update lr on every batch\n",
    "\n",
    "        model.eval()\n",
    "        val_loss = []\n",
    "        val_acc = []\n",
    "        for i, (inputs, labels) in enumerate(val_dataloader):\n",
    "            with torch.no_grad():\n",
    "                inputs = inputs.to(device)\n",
    "                labels = labels.to(device)\n",
    "\n",
    "                outputs = model(inputs)\n",
    "                loss = criterion(outputs, labels)\n",
    "                val_loss.append(loss.item()) \n",
    "\n",
    "                ret, predictions = torch.max(outputs.data, 1)\n",
    "                correct_counts = predictions.eq(labels.data.view_as(predictions))\n",
    "                acc = torch.mean(correct_counts.type(torch.FloatTensor))\n",
    "                val_acc.append(acc.item()) \n",
    "\n",
    "        avg_val_loss = sum(val_loss) / len(val_loss)\n",
    "        avg_val_acc = sum(val_acc) / len(val_acc)\n",
    "    \n",
    "        epoch_val_loss.append(avg_val_loss)\n",
    "        epoch_val_acc.append(avg_val_acc)\n",
    "        \n",
    "        print(f\"Validation loss: \\t{avg_val_loss:.4f}\", end=\" | \")\n",
    "        print(f\"Validation accuracy: \\t{avg_val_acc:.4f}\", end=\" | \")\n",
    "        print()\n",
    "        \n",
    "    history = {\n",
    "        'train_loss': epoch_train_loss,\n",
    "        'train_acc' : epoch_train_acc,\n",
    "        'val_loss' : epoch_val_loss,\n",
    "        'val_acc' : epoch_val_acc\n",
    "    }\n",
    "    \n",
    "    return history"
   ]
  },
  {
   "cell_type": "code",
   "execution_count": 7,
   "metadata": {},
   "outputs": [],
   "source": [
    "# Using vgg19 as base model\n",
    "vgg19 = models.vgg19(weights=models.VGG19_Weights.IMAGENET1K_V1)\n",
    "\n",
    "# we don't want to disrupt the learned weights of the pretrained model, so we set 'requires_grad' to False\n",
    "for param in vgg19.parameters():\n",
    "    param.requires_grad = False\n",
    "    \n",
    "vgg19_classifier = nn.Sequential(OrderedDict([\n",
    "    ('inputs', nn.Linear(25088, 512)),\n",
    "    ('relu1', nn.ReLU()),\n",
    "    ('dropout1', nn.Dropout(0.2)),\n",
    "    ('hidden_layer1', nn.Linear(512, 128)),\n",
    "    ('relu2', nn.ReLU()),\n",
    "    ('dropout2', nn.Dropout(0.2)),\n",
    "    ('hidden_layer2', nn.Linear(128, 128)),\n",
    "    ('relu3', nn.ReLU()),\n",
    "    ('dropout3', nn.Dropout(0.2)),\n",
    "    ('hidden_layer3', nn.Linear(128, 2)),\n",
    "    ('output', nn.LogSoftmax(dim=1)),\n",
    "]))\n",
    "\n",
    "vgg19.classifier = vgg19_classifier\n",
    "\n",
    "optimizer_vgg19 = optim.AdamW(vgg19.classifier.parameters(), lr=LR, weight_decay=WEIGHT_DECAY)\n",
    "scheduler_vgg19 = lr_scheduler.ExponentialLR(optimizer_vgg19, gamma=LR_DECAY, last_epoch=-1)"
   ]
  },
  {
   "cell_type": "code",
   "execution_count": 8,
   "metadata": {},
   "outputs": [],
   "source": [
    "# Using convnext as base model\n",
    "convnext = models.convnext_base(weights=models.ConvNeXt_Base_Weights.IMAGENET1K_V1)\n",
    "\n",
    "for param in convnext.parameters():\n",
    "    param.requires_grad = False\n",
    "    \n",
    "convnext_classifier = nn.Sequential(OrderedDict([\n",
    "    ('flatten', nn.Flatten()),\n",
    "    ('inputs', nn.Linear(1024, 512)),\n",
    "    ('relu1', nn.ReLU()),\n",
    "    ('dropout1', nn.Dropout(0.2)),\n",
    "    ('hidden_layer1', nn.Linear(512, 128)),\n",
    "    ('relu2', nn.ReLU()),\n",
    "    ('dropout2', nn.Dropout(0.2)),\n",
    "    ('hidden_layer2', nn.Linear(128, 128)),\n",
    "    ('relu3', nn.ReLU()),\n",
    "    ('dropout3', nn.Dropout(0.2)),\n",
    "    ('hidden_layer3', nn.Linear(128, 2)),\n",
    "    ('output', nn.LogSoftmax(dim=1)),\n",
    "]))\n",
    "\n",
    "convnext.classifier = convnext_classifier\n",
    "\n",
    "optimizer_convnext = optim.AdamW(convnext.classifier.parameters(), lr=LR, weight_decay=WEIGHT_DECAY)\n",
    "scheduler_convnext = lr_scheduler.ExponentialLR(optimizer_convnext, gamma=LR_DECAY, last_epoch=-1)"
   ]
  },
  {
   "cell_type": "code",
   "execution_count": 22,
   "metadata": {},
   "outputs": [],
   "source": [
    "# Using swin as base model\n",
    "swin = models.swin_b(weights=models.Swin_B_Weights.IMAGENET1K_V1)\n",
    "\n",
    "for param in swin.parameters():\n",
    "    param.requires_grad = False\n",
    "    \n",
    "swin_classifier = nn.Sequential(OrderedDict([\n",
    "    ('flatten', nn.Flatten()),\n",
    "    ('inputs', nn.Linear(1024, 512)),\n",
    "    ('relu1', nn.ReLU()),\n",
    "    ('dropout1', nn.Dropout(0.2)),\n",
    "    ('hidden_layer1', nn.Linear(512, 128)),\n",
    "    ('relu2', nn.ReLU()),\n",
    "    ('dropout2', nn.Dropout(0.2)),\n",
    "    ('hidden_layer2', nn.Linear(128, 128)),\n",
    "    ('relu3', nn.ReLU()),\n",
    "    ('dropout3', nn.Dropout(0.2)),\n",
    "    ('hidden_layer3', nn.Linear(128, 2)),\n",
    "    ('output', nn.LogSoftmax(dim=1)),\n",
    "]))\n",
    "\n",
    "swin.head = swin_classifier\n",
    "\n",
    "optimizer_swin = optim.AdamW(swin.head.parameters(), lr=LR, weight_decay=WEIGHT_DECAY)\n",
    "scheduler_swin = lr_scheduler.ExponentialLR(optimizer_swin, gamma=LR_DECAY, last_epoch=-1)"
   ]
  },
  {
   "cell_type": "code",
   "execution_count": 24,
   "metadata": {},
   "outputs": [],
   "source": [
    "def eval_model(model, test_dataloader):\n",
    "    device = \"cuda\" if torch.cuda.is_available() else \"cpu\"\n",
    "    model = model.to(device)\n",
    "    model = DataParallel(model)\n",
    "    model.eval()\n",
    "    \n",
    "    test_loss = []\n",
    "    test_acc = []\n",
    "    y_true = []\n",
    "    y_pred = []\n",
    "\n",
    "    for i, (inputs, labels) in enumerate(test_dataloader):\n",
    "        with torch.no_grad():\n",
    "            inputs = inputs.to(device)\n",
    "            labels = labels.to(device)\n",
    "            y_true.extend(labels.cpu().numpy())\n",
    "\n",
    "            outputs = model(inputs)\n",
    "            loss = criterion(outputs, labels)\n",
    "            test_loss.append(loss.item()) \n",
    "\n",
    "            _, predictions = torch.max(outputs.data, 1)\n",
    "            y_pred.extend(predictions.cpu().numpy())\n",
    "            correct_counts = predictions.eq(labels.data.view_as(predictions))\n",
    "            acc = torch.mean(correct_counts.type(torch.FloatTensor))\n",
    "            test_acc.append(acc.item()) \n",
    "\n",
    "    avg_test_loss = sum(test_loss) / len(test_loss)\n",
    "    avg_test_acc = sum(test_acc) / len(test_acc)\n",
    "\n",
    "    print(\"Evaluation Results\\n\")\n",
    "    print(f\"Test loss: {avg_test_loss:.4f}\", end=\" | \")\n",
    "    print(f\"Test accuracy: {avg_test_acc:.4f}\", end=\" | \")\n",
    "    print(\"\\n\")\n",
    "\n",
    "    # Create a list of class names in the same order as their integer labels\n",
    "    class_to_idx = image_dataset.class_to_idx\n",
    "    classes = [k for k, v in class_to_idx.items()]\n",
    "\n",
    "    # Convert integer labels to their corresponding class names\n",
    "    y_true = [classes[label] for label in y_true]\n",
    "    y_pred = [classes[label] for label in y_pred]\n",
    "\n",
    "    # Print the classification report with categorical labels\n",
    "    print(classification_report(y_true, y_pred, digits=4))"
   ]
  },
  {
   "cell_type": "code",
   "execution_count": 11,
   "metadata": {},
   "outputs": [],
   "source": [
    "criterion = nn.NLLLoss()"
   ]
  },
  {
   "cell_type": "code",
   "execution_count": 12,
   "metadata": {
    "editable": true,
    "slideshow": {
     "slide_type": ""
    },
    "tags": []
   },
   "outputs": [
    {
     "name": "stdout",
     "output_type": "stream",
     "text": [
      "Epoch: 1/5\n",
      "Learning rate: 0.0005\n",
      "Batch: 100/157 | Train loss: 0.2452 | Train accuracy: 0.9004 | \n",
      "Train loss: \t\t0.2546 | Train accuracy: \t0.8932 | \n",
      "Validation loss: \t0.1872 | Validation accuracy: \t0.9258 | \n",
      "Epoch: 2/5\n",
      "Learning rate: 0.00035\n",
      "Batch: 100/157 | Train loss: 0.1139 | Train accuracy: 0.9512 | \n",
      "Train loss: \t\t0.1237 | Train accuracy: \t0.9531 | \n",
      "Validation loss: \t0.1648 | Validation accuracy: \t0.9384 | \n",
      "Epoch: 3/5\n",
      "Learning rate: 0.000245\n",
      "Batch: 100/157 | Train loss: 0.0548 | Train accuracy: 0.9805 | \n",
      "Train loss: \t\t0.0595 | Train accuracy: \t0.9784 | \n",
      "Validation loss: \t0.1703 | Validation accuracy: \t0.9450 | \n",
      "Epoch: 4/5\n",
      "Learning rate: 0.0001715\n",
      "Batch: 100/157 | Train loss: 0.0152 | Train accuracy: 0.9941 | \n",
      "Train loss: \t\t0.0236 | Train accuracy: \t0.9920 | \n",
      "Validation loss: \t0.2133 | Validation accuracy: \t0.9454 | \n",
      "Epoch: 5/5\n",
      "Learning rate: 0.00012004999999999999\n",
      "Batch: 100/157 | Train loss: 0.0202 | Train accuracy: 0.9941 | \n",
      "Train loss: \t\t0.0096 | Train accuracy: \t0.9972 | \n",
      "Validation loss: \t0.2371 | Validation accuracy: \t0.9445 | \n"
     ]
    }
   ],
   "source": [
    "vgg19_history = fit_model(\n",
    "    model=vgg19,\n",
    "    epochs=EPOCHS,\n",
    "    train_dataloader=train_dataloader,\n",
    "    val_dataloader=val_dataloader,\n",
    "    criterion=criterion,\n",
    "    optimizer=optimizer_vgg19,\n",
    "    scheduler=scheduler_vgg19,\n",
    ")"
   ]
  },
  {
   "cell_type": "code",
   "execution_count": 13,
   "metadata": {
    "editable": true,
    "slideshow": {
     "slide_type": ""
    },
    "tags": []
   },
   "outputs": [
    {
     "name": "stdout",
     "output_type": "stream",
     "text": [
      "Epoch: 1/5\n",
      "Learning rate: 0.0005\n",
      "Batch: 100/157 | Train loss: 0.2355 | Train accuracy: 0.9043 | \n",
      "Train loss: \t\t0.2852 | Train accuracy: \t0.8808 | \n",
      "Validation loss: \t0.1561 | Validation accuracy: \t0.9400 | \n",
      "Epoch: 2/5\n",
      "Learning rate: 0.00035\n",
      "Batch: 100/157 | Train loss: 0.1561 | Train accuracy: 0.9375 | \n",
      "Train loss: \t\t0.1672 | Train accuracy: \t0.9351 | \n",
      "Validation loss: \t0.1249 | Validation accuracy: \t0.9533 | \n",
      "Epoch: 3/5\n",
      "Learning rate: 0.000245\n",
      "Batch: 100/157 | Train loss: 0.1114 | Train accuracy: 0.9629 | \n",
      "Train loss: \t\t0.1409 | Train accuracy: \t0.9454 | \n",
      "Validation loss: \t0.1147 | Validation accuracy: \t0.9579 | \n",
      "Epoch: 4/5\n",
      "Learning rate: 0.0001715\n",
      "Batch: 100/157 | Train loss: 0.1350 | Train accuracy: 0.9453 | \n",
      "Train loss: \t\t0.1260 | Train accuracy: \t0.9528 | \n",
      "Validation loss: \t0.1013 | Validation accuracy: \t0.9626 | \n",
      "Epoch: 5/5\n",
      "Learning rate: 0.00012004999999999999\n",
      "Batch: 100/157 | Train loss: 0.1596 | Train accuracy: 0.9473 | \n",
      "Train loss: \t\t0.1167 | Train accuracy: \t0.9557 | \n",
      "Validation loss: \t0.1158 | Validation accuracy: \t0.9556 | \n"
     ]
    }
   ],
   "source": [
    "convnext_history = fit_model(\n",
    "    model=convnext,\n",
    "    epochs=EPOCHS,\n",
    "    train_dataloader=train_dataloader,\n",
    "    val_dataloader=val_dataloader,\n",
    "    criterion=criterion,\n",
    "    optimizer=optimizer_convnext,\n",
    "    scheduler=scheduler_convnext,\n",
    ")"
   ]
  },
  {
   "cell_type": "code",
   "execution_count": 23,
   "metadata": {},
   "outputs": [
    {
     "name": "stdout",
     "output_type": "stream",
     "text": [
      "Epoch: 1/5\n",
      "Learning rate: 0.0005\n",
      "Batch: 100/157 | Train loss: 0.2306 | Train accuracy: 0.9141 | \n",
      "Train loss: \t\t0.2881 | Train accuracy: \t0.8763 | \n",
      "Validation loss: \t0.1586 | Validation accuracy: \t0.9396 | \n",
      "Epoch: 2/5\n",
      "Learning rate: 0.00035\n",
      "Batch: 100/157 | Train loss: 0.1643 | Train accuracy: 0.9375 | \n",
      "Train loss: \t\t0.1810 | Train accuracy: \t0.9281 | \n",
      "Validation loss: \t0.1377 | Validation accuracy: \t0.9471 | \n",
      "Epoch: 3/5\n",
      "Learning rate: 0.000245\n",
      "Batch: 100/157 | Train loss: 0.1577 | Train accuracy: 0.9414 | \n",
      "Train loss: \t\t0.1565 | Train accuracy: \t0.9393 | \n",
      "Validation loss: \t0.1229 | Validation accuracy: \t0.9535 | \n",
      "Epoch: 4/5\n",
      "Learning rate: 0.0001715\n",
      "Batch: 100/157 | Train loss: 0.1337 | Train accuracy: 0.9453 | \n",
      "Train loss: \t\t0.1409 | Train accuracy: \t0.9455 | \n",
      "Validation loss: \t0.1206 | Validation accuracy: \t0.9562 | \n",
      "Epoch: 5/5\n",
      "Learning rate: 0.00012004999999999999\n",
      "Batch: 100/157 | Train loss: 0.1076 | Train accuracy: 0.9609 | \n",
      "Train loss: \t\t0.1327 | Train accuracy: \t0.9489 | \n",
      "Validation loss: \t0.1126 | Validation accuracy: \t0.9571 | \n"
     ]
    }
   ],
   "source": [
    "swin_history = fit_model(\n",
    "    model=swin,\n",
    "    epochs=EPOCHS,\n",
    "    train_dataloader=train_dataloader,\n",
    "    val_dataloader=val_dataloader,\n",
    "    criterion=criterion,\n",
    "    optimizer=optimizer_swin,\n",
    "    scheduler=scheduler_swin,\n",
    ")"
   ]
  },
  {
   "cell_type": "code",
   "execution_count": 25,
   "metadata": {},
   "outputs": [
    {
     "name": "stdout",
     "output_type": "stream",
     "text": [
      "Evaluation Results\n",
      "\n",
      "Test loss: 0.2539 | Test accuracy: 0.9425 | \n",
      "\n",
      "              precision    recall  f1-score   support\n",
      "\n",
      "        FAKE     0.9347    0.9518    0.9432     10000\n",
      "        REAL     0.9509    0.9335    0.9421     10000\n",
      "\n",
      "    accuracy                         0.9426     20000\n",
      "   macro avg     0.9428    0.9426    0.9426     20000\n",
      "weighted avg     0.9428    0.9426    0.9426     20000\n",
      "\n"
     ]
    }
   ],
   "source": [
    "eval_model(\n",
    "    model=vgg19,\n",
    "    test_dataloader=test_dataloader\n",
    ")"
   ]
  },
  {
   "cell_type": "code",
   "execution_count": 26,
   "metadata": {},
   "outputs": [
    {
     "name": "stdout",
     "output_type": "stream",
     "text": [
      "Evaluation Results\n",
      "\n",
      "Test loss: 0.1163 | Test accuracy: 0.9554 | \n",
      "\n",
      "              precision    recall  f1-score   support\n",
      "\n",
      "        FAKE     0.9313    0.9842    0.9570     10000\n",
      "        REAL     0.9832    0.9274    0.9545     10000\n",
      "\n",
      "    accuracy                         0.9558     20000\n",
      "   macro avg     0.9573    0.9558    0.9558     20000\n",
      "weighted avg     0.9573    0.9558    0.9558     20000\n",
      "\n"
     ]
    }
   ],
   "source": [
    "eval_model(\n",
    "    model=convnext,\n",
    "    test_dataloader=test_dataloader\n",
    ")"
   ]
  },
  {
   "cell_type": "code",
   "execution_count": 27,
   "metadata": {},
   "outputs": [
    {
     "name": "stdout",
     "output_type": "stream",
     "text": [
      "Evaluation Results\n",
      "\n",
      "Test loss: 0.1091 | Test accuracy: 0.9585 | \n",
      "\n",
      "              precision    recall  f1-score   support\n",
      "\n",
      "        FAKE     0.9475    0.9718    0.9595     10000\n",
      "        REAL     0.9711    0.9462    0.9585     10000\n",
      "\n",
      "    accuracy                         0.9590     20000\n",
      "   macro avg     0.9593    0.9590    0.9590     20000\n",
      "weighted avg     0.9593    0.9590    0.9590     20000\n",
      "\n"
     ]
    }
   ],
   "source": [
    "eval_model(\n",
    "    model=swin,\n",
    "    test_dataloader=test_dataloader\n",
    ")"
   ]
  },
  {
   "cell_type": "code",
   "execution_count": 48,
   "metadata": {},
   "outputs": [
    {
     "data": {
      "text/plain": [
       "<matplotlib.legend.Legend at 0x7fdf552e6e00>"
      ]
     },
     "execution_count": 48,
     "metadata": {},
     "output_type": "execute_result"
    },
    {
     "data": {
      "image/png": "[encoded data removed]",
      "text/plain": [
       "<Figure size 640x480 with 1 Axes>"
      ]
     },
     "metadata": {},
     "output_type": "display_data"
    }
   ],
   "source": [
    "sns.set_context('paper')\n",
    "\n",
    "sns.lineplot(x=range(1, 6), y=vgg19_history['val_loss'], label='VGG19')\n",
    "sns.lineplot(x=range(1, 6), y=convnext_history['val_loss'], label='ConvNext')\n",
    "sns.lineplot(x=range(1, 6), y=swin_history['val_loss'], label='Swin')\n",
    "\n",
    "plt.xticks(range(1, 6, 1))\n",
    "plt.xlabel('Epochs')\n",
    "plt.ylabel('Validation Loss')\n",
    "plt.title('Validation Loss Curve')\n",
    "\n",
    "plt.legend()"
   ]
  },
  {
   "cell_type": "code",
   "execution_count": 50,
   "metadata": {},
   "outputs": [
    {
     "data": {
      "text/plain": [
       "<matplotlib.legend.Legend at 0x7fdf54b343a0>"
      ]
     },
     "execution_count": 50,
     "metadata": {},
     "output_type": "execute_result"
    },
    {
     "data": {
      "image/png": "[encoded data removed]",
      "text/plain": [
       "<Figure size 640x480 with 1 Axes>"
      ]
     },
     "metadata": {},
     "output_type": "display_data"
    }
   ],
   "source": [
    "sns.lineplot(x=range(1, 6), y=vgg19_history['val_acc'], label='VGG19')\n",
    "sns.lineplot(x=range(1, 6), y=convnext_history['val_acc'], label='ConvNext')\n",
    "sns.lineplot(x=range(1, 6), y=swin_history['val_acc'], label='Swin')\n",
    "\n",
    "plt.xticks(range(1, 6, 1))\n",
    "plt.xlabel('Epochs')\n",
    "plt.ylabel('Validation Accuracy')\n",
    "plt.title('Validation Accuracy Curve')\n",
    "\n",
    "plt.legend()"
   ]
  },
  {
   "cell_type": "code",
   "execution_count": 28,
   "metadata": {},
   "outputs": [],
   "source": [
    "torch.save(vgg19, \"VGG19-CIFAKE.pth\")\n",
    "torch.save(convnext, \"ConvNext-CIFAKE.pth\")\n",
    "torch.save(swin, \"Swin-CIFAKE.pth\")"
   ]
  }
 ],
 "metadata": {
  "kernelspec": {
   "display_name": "Python 3 (ipykernel)",
   "language": "python",
   "name": "python3"
  },
  "language_info": {
   "codemirror_mode": {
    "name": "ipython",
    "version": 3
   },
   "file_extension": ".py",
   "mimetype": "text/x-python",
   "name": "python",
   "nbconvert_exporter": "python",
   "pygments_lexer": "ipython3",
   "version": "3.10.11"
  }
 },
 "nbformat": 4,
 "nbformat_minor": 4
}
